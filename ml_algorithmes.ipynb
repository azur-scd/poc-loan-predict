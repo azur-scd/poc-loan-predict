{
 "cells": [
  {
   "cell_type": "code",
   "execution_count": 1,
   "metadata": {},
   "outputs": [],
   "source": [
    "%matplotlib inline"
   ]
  },
  {
   "cell_type": "code",
   "execution_count": 77,
   "metadata": {},
   "outputs": [],
   "source": [
    "import pandas as pd\n",
    "import numpy as np\n",
    "import matplotlib.pyplot as plt\n",
    "import seaborn as sns\n",
    "from pickle import dump\n",
    "from pickle import load"
   ]
  },
  {
   "cell_type": "markdown",
   "metadata": {},
   "source": [
    "# Data Load"
   ]
  },
  {
   "cell_type": "code",
   "execution_count": 101,
   "metadata": {},
   "outputs": [
    {
     "name": "stdout",
     "output_type": "stream",
     "text": [
      "<class 'pandas.core.frame.DataFrame'>\n",
      "RangeIndex: 54463 entries, 0 to 54462\n",
      "Data columns (total 8 columns):\n",
      " #   Column                     Non-Null Count  Dtype \n",
      "---  ------                     --------------  ----- \n",
      " 0   date_pub                   54463 non-null  int64 \n",
      " 1   statut_ex                  54463 non-null  int64 \n",
      " 2   bib                        54463 non-null  object\n",
      " 3   pret                       54463 non-null  int64 \n",
      " 4   diff_datecreation_datepub  54463 non-null  int64 \n",
      " 5   acces                      54463 non-null  object\n",
      " 6   acq                        54463 non-null  object\n",
      " 7   indice                     54463 non-null  object\n",
      "dtypes: int64(4), object(4)\n",
      "memory usage: 3.3+ MB\n"
     ]
    }
   ],
   "source": [
    "data = pd.read_csv('data/tous_exemplaires_ready.csv', sep=',', encoding=\"utf-8\")\n",
    "data.info()"
   ]
  },
  {
   "cell_type": "code",
   "execution_count": 105,
   "metadata": {},
   "outputs": [],
   "source": [
    "cols_to_change_to_str = [\"pret\",\"statut_ex\"]\n",
    "for col in cols_to_change_to_str:\n",
    "    data[col] = data[col].astype(str)"
   ]
  },
  {
   "cell_type": "markdown",
   "metadata": {},
   "source": [
    "# Dummies variables for categorical variables"
   ]
  },
  {
   "cell_type": "markdown",
   "metadata": {},
   "source": [
    "On encode les variables qualitatives ayant peu de modalités avec la méthode get_dummies de pandas :\n",
    "- création d'autant de nouvelles colonnes pré-fixées avec le label de la variable que de modalités \n",
    "- suppression d'une des colonnes (param drop_first=True) pour rendre les nouvelles variables créées indépendantes"
   ]
  },
  {
   "cell_type": "code",
   "execution_count": 80,
   "metadata": {},
   "outputs": [],
   "source": [
    "df = data.copy()\n",
    "df = pd.get_dummies(df, columns=['bib', 'statut_ex', 'acces', 'acq'], drop_first=True, dummy_na=False)"
   ]
  },
  {
   "cell_type": "code",
   "execution_count": 81,
   "metadata": {},
   "outputs": [],
   "source": [
    "cols_to_keep = [c for c in df.columns.to_list() if c != 'pret']"
   ]
  },
  {
   "cell_type": "code",
   "execution_count": 7,
   "metadata": {},
   "outputs": [
    {
     "data": {
      "text/html": [
       "<div>\n",
       "<style scoped>\n",
       "    .dataframe tbody tr th:only-of-type {\n",
       "        vertical-align: middle;\n",
       "    }\n",
       "\n",
       "    .dataframe tbody tr th {\n",
       "        vertical-align: top;\n",
       "    }\n",
       "\n",
       "    .dataframe thead th {\n",
       "        text-align: right;\n",
       "    }\n",
       "</style>\n",
       "<table border=\"1\" class=\"dataframe\">\n",
       "  <thead>\n",
       "    <tr style=\"text-align: right;\">\n",
       "      <th></th>\n",
       "      <th>date_pub</th>\n",
       "      <th>pret</th>\n",
       "      <th>diff_datecreation_datepub</th>\n",
       "      <th>indice</th>\n",
       "      <th>bib_DROIT</th>\n",
       "      <th>bib_EPU</th>\n",
       "      <th>bib_LASH</th>\n",
       "      <th>bib_MEDP</th>\n",
       "      <th>bib_SCIEN</th>\n",
       "      <th>bib_SJA</th>\n",
       "      <th>bib_STAPS</th>\n",
       "      <th>statut_ex_19</th>\n",
       "      <th>acces_indirect</th>\n",
       "      <th>acq_don</th>\n",
       "    </tr>\n",
       "  </thead>\n",
       "  <tbody>\n",
       "    <tr>\n",
       "      <th>0</th>\n",
       "      <td>2001</td>\n",
       "      <td>1</td>\n",
       "      <td>16</td>\n",
       "      <td>33</td>\n",
       "      <td>0</td>\n",
       "      <td>0</td>\n",
       "      <td>0</td>\n",
       "      <td>0</td>\n",
       "      <td>0</td>\n",
       "      <td>1</td>\n",
       "      <td>0</td>\n",
       "      <td>1</td>\n",
       "      <td>0</td>\n",
       "      <td>0</td>\n",
       "    </tr>\n",
       "    <tr>\n",
       "      <th>1</th>\n",
       "      <td>2005</td>\n",
       "      <td>1</td>\n",
       "      <td>13</td>\n",
       "      <td>868</td>\n",
       "      <td>0</td>\n",
       "      <td>0</td>\n",
       "      <td>1</td>\n",
       "      <td>0</td>\n",
       "      <td>0</td>\n",
       "      <td>0</td>\n",
       "      <td>0</td>\n",
       "      <td>1</td>\n",
       "      <td>0</td>\n",
       "      <td>1</td>\n",
       "    </tr>\n",
       "    <tr>\n",
       "      <th>2</th>\n",
       "      <td>2007</td>\n",
       "      <td>0</td>\n",
       "      <td>10</td>\n",
       "      <td>19</td>\n",
       "      <td>0</td>\n",
       "      <td>0</td>\n",
       "      <td>1</td>\n",
       "      <td>0</td>\n",
       "      <td>0</td>\n",
       "      <td>0</td>\n",
       "      <td>0</td>\n",
       "      <td>1</td>\n",
       "      <td>0</td>\n",
       "      <td>0</td>\n",
       "    </tr>\n",
       "    <tr>\n",
       "      <th>3</th>\n",
       "      <td>2007</td>\n",
       "      <td>0</td>\n",
       "      <td>13</td>\n",
       "      <td>65</td>\n",
       "      <td>0</td>\n",
       "      <td>0</td>\n",
       "      <td>0</td>\n",
       "      <td>0</td>\n",
       "      <td>0</td>\n",
       "      <td>1</td>\n",
       "      <td>0</td>\n",
       "      <td>1</td>\n",
       "      <td>0</td>\n",
       "      <td>0</td>\n",
       "    </tr>\n",
       "    <tr>\n",
       "      <th>4</th>\n",
       "      <td>1942</td>\n",
       "      <td>1</td>\n",
       "      <td>74</td>\n",
       "      <td>numinv</td>\n",
       "      <td>0</td>\n",
       "      <td>0</td>\n",
       "      <td>1</td>\n",
       "      <td>0</td>\n",
       "      <td>0</td>\n",
       "      <td>0</td>\n",
       "      <td>0</td>\n",
       "      <td>1</td>\n",
       "      <td>1</td>\n",
       "      <td>1</td>\n",
       "    </tr>\n",
       "  </tbody>\n",
       "</table>\n",
       "</div>"
      ],
      "text/plain": [
       "   date_pub pret  diff_datecreation_datepub  indice  bib_DROIT  bib_EPU  \\\n",
       "0      2001    1                         16      33          0        0   \n",
       "1      2005    1                         13     868          0        0   \n",
       "2      2007    0                         10      19          0        0   \n",
       "3      2007    0                         13      65          0        0   \n",
       "4      1942    1                         74  numinv          0        0   \n",
       "\n",
       "   bib_LASH  bib_MEDP  bib_SCIEN  bib_SJA  bib_STAPS  statut_ex_19  \\\n",
       "0         0         0          0        1          0             1   \n",
       "1         1         0          0        0          0             1   \n",
       "2         1         0          0        0          0             1   \n",
       "3         0         0          0        1          0             1   \n",
       "4         1         0          0        0          0             1   \n",
       "\n",
       "   acces_indirect  acq_don  \n",
       "0               0        0  \n",
       "1               0        1  \n",
       "2               0        0  \n",
       "3               0        0  \n",
       "4               1        1  "
      ]
     },
     "execution_count": 7,
     "metadata": {},
     "output_type": "execute_result"
    }
   ],
   "source": [
    "df.head()"
   ]
  },
  {
   "cell_type": "markdown",
   "metadata": {},
   "source": [
    "# Création du jeu d'entrainement"
   ]
  },
  {
   "cell_type": "code",
   "execution_count": 8,
   "metadata": {},
   "outputs": [],
   "source": [
    "from sklearn.model_selection import train_test_split"
   ]
  },
  {
   "cell_type": "code",
   "execution_count": 82,
   "metadata": {},
   "outputs": [],
   "source": [
    "X_train, X_test, y_train, y_test = train_test_split(df[cols_to_keep], df[[\"pret\"]], test_size=0.2, random_state=42)"
   ]
  },
  {
   "cell_type": "code",
   "execution_count": 10,
   "metadata": {},
   "outputs": [
    {
     "data": {
      "text/plain": [
       "pret\n",
       "0       22665\n",
       "1       20905\n",
       "dtype: int64"
      ]
     },
     "execution_count": 10,
     "metadata": {},
     "output_type": "execute_result"
    }
   ],
   "source": [
    "y_train.value_counts()"
   ]
  },
  {
   "cell_type": "markdown",
   "metadata": {},
   "source": [
    "On considère que l'échantillonage réalisé a produit un dataset d'entraînement bien équilibré concernant la partition de la variable cible (pas de sur ou sous-représentation flagrande) -> on n'applique pas de technique d'over ou under sampling"
   ]
  },
  {
   "cell_type": "markdown",
   "metadata": {},
   "source": [
    "## Variables quantitatives"
   ]
  },
  {
   "cell_type": "code",
   "execution_count": 13,
   "metadata": {},
   "outputs": [
    {
     "data": {
      "text/plain": [
       "<AxesSubplot:ylabel='Frequency'>"
      ]
     },
     "execution_count": 13,
     "metadata": {},
     "output_type": "execute_result"
    },
    {
     "data": {
      "image/png": "[encoded data removed]",
      "text/plain": [
       "<Figure size 432x288 with 1 Axes>"
      ]
     },
     "metadata": {
      "needs_background": "light"
     },
     "output_type": "display_data"
    }
   ],
   "source": [
    "X_train[\"date_pub\"].plot(kind=\"hist\")"
   ]
  },
  {
   "cell_type": "code",
   "execution_count": 14,
   "metadata": {},
   "outputs": [
    {
     "data": {
      "text/plain": [
       "<AxesSubplot:ylabel='Frequency'>"
      ]
     },
     "execution_count": 14,
     "metadata": {},
     "output_type": "execute_result"
    },
    {
     "data": {
      "image/png": "[encoded data removed]",
      "text/plain": [
       "<Figure size 432x288 with 1 Axes>"
      ]
     },
     "metadata": {
      "needs_background": "light"
     },
     "output_type": "display_data"
    }
   ],
   "source": [
    "X_train[\"diff_datecreation_datepub\"].plot(kind=\"hist\")"
   ]
  },
  {
   "cell_type": "markdown",
   "metadata": {},
   "source": [
    "-> Normalisation nécessaire"
   ]
  },
  {
   "cell_type": "code",
   "execution_count": 11,
   "metadata": {},
   "outputs": [],
   "source": [
    "from sklearn.preprocessing import StandardScaler\n",
    "std_scaler = StandardScaler()"
   ]
  },
  {
   "cell_type": "code",
   "execution_count": 83,
   "metadata": {},
   "outputs": [],
   "source": [
    "std_scaler = dict()\n",
    "for c in ['date_pub','diff_datecreation_datepub']:\n",
    "    std_scaler[f'std_scaler_{c}'] = StandardScaler()\n",
    "    X_train[[f'{c}_std_scaler']] = std_scaler[f'std_scaler_{c}'].fit_transform(X_train[[c]])\n",
    "    X_train.drop([c], axis = 1, inplace = True)\n",
    "    X_test[[f'{c}_std_scaler']] = std_scaler[f'std_scaler_{c}'].transform(X_test[[c]])\n",
    "    X_test.drop([c], axis = 1, inplace = True)"
   ]
  },
  {
   "cell_type": "code",
   "execution_count": 87,
   "metadata": {},
   "outputs": [
    {
     "data": {
      "text/plain": [
       "<AxesSubplot:ylabel='Frequency'>"
      ]
     },
     "execution_count": 87,
     "metadata": {},
     "output_type": "execute_result"
    },
    {
     "data": {
      "image/png": "[encoded data removed]",
      "text/plain": [
       "<Figure size 432x288 with 1 Axes>"
      ]
     },
     "metadata": {
      "needs_background": "light"
     },
     "output_type": "display_data"
    }
   ],
   "source": [
    "# -> résultat\n",
    "X_train[\"date_pub_std_scaler\"].plot(kind=\"hist\")"
   ]
  },
  {
   "cell_type": "code",
   "execution_count": 88,
   "metadata": {},
   "outputs": [
    {
     "data": {
      "text/plain": [
       "<AxesSubplot:ylabel='Frequency'>"
      ]
     },
     "execution_count": 88,
     "metadata": {},
     "output_type": "execute_result"
    },
    {
     "data": {
      "image/png": "[encoded data removed]",
      "text/plain": [
       "<Figure size 432x288 with 1 Axes>"
      ]
     },
     "metadata": {
      "needs_background": "light"
     },
     "output_type": "display_data"
    }
   ],
   "source": [
    "X_train[\"diff_datecreation_datepub_std_scaler\"].plot(kind=\"hist\")"
   ]
  },
  {
   "cell_type": "code",
   "execution_count": 13,
   "metadata": {},
   "outputs": [],
   "source": [
    "# save the scaler\n",
    "dump(std_scaler, open('transformers_models/std_scaler.pkl', 'wb'))\n",
    "\n",
    "# Usage\n",
    "# std_scaler = load(open('transformers_models/std_scaler.pkl', 'rb'))\n",
    "## ex :  X_test_scaled = std_scaler.transform(X_test)\n",
    "# std_scaler['std_scaler_date_pub'].transform([[2015]])"
   ]
  },
  {
   "cell_type": "markdown",
   "metadata": {},
   "source": [
    "## Variable catégorielle indice"
   ]
  },
  {
   "cell_type": "markdown",
   "metadata": {},
   "source": [
    "*Doc : https://datagy.io/sklearn-one-hot-encode/*"
   ]
  },
  {
   "cell_type": "code",
   "execution_count": 47,
   "metadata": {},
   "outputs": [],
   "source": [
    "from sklearn.preprocessing import OneHotEncoder\n",
    "from sklearn.compose import make_column_transformer"
   ]
  },
  {
   "cell_type": "code",
   "execution_count": 84,
   "metadata": {},
   "outputs": [],
   "source": [
    "ohe = make_column_transformer(\n",
    "    (OneHotEncoder(categories='auto', drop=None, sparse=False, handle_unknown=\"ignore\"), ['indice']),\n",
    "    remainder='passthrough')"
   ]
  },
  {
   "cell_type": "markdown",
   "metadata": {},
   "source": [
    "### fit & transform sur données d'entraînement"
   ]
  },
  {
   "cell_type": "code",
   "execution_count": 85,
   "metadata": {},
   "outputs": [],
   "source": [
    "transformed_train = ohe.fit_transform(X_train)\n",
    "transformed_X_train = pd.DataFrame(\n",
    "    transformed_train, \n",
    "    columns=transformer.get_feature_names_out()\n",
    ")"
   ]
  },
  {
   "cell_type": "code",
   "execution_count": 72,
   "metadata": {},
   "outputs": [
    {
     "data": {
      "text/html": [
       "<div>\n",
       "<style scoped>\n",
       "    .dataframe tbody tr th:only-of-type {\n",
       "        vertical-align: middle;\n",
       "    }\n",
       "\n",
       "    .dataframe tbody tr th {\n",
       "        vertical-align: top;\n",
       "    }\n",
       "\n",
       "    .dataframe thead th {\n",
       "        text-align: right;\n",
       "    }\n",
       "</style>\n",
       "<table border=\"1\" class=\"dataframe\">\n",
       "  <thead>\n",
       "    <tr style=\"text-align: right;\">\n",
       "      <th></th>\n",
       "      <th>onehotencoder__indice_00</th>\n",
       "      <th>onehotencoder__indice_02</th>\n",
       "      <th>onehotencoder__indice_03</th>\n",
       "      <th>onehotencoder__indice_04</th>\n",
       "      <th>onehotencoder__indice_05</th>\n",
       "      <th>onehotencoder__indice_06</th>\n",
       "      <th>onehotencoder__indice_07</th>\n",
       "      <th>onehotencoder__indice_09</th>\n",
       "      <th>onehotencoder__indice_10</th>\n",
       "      <th>onehotencoder__indice_11</th>\n",
       "      <th>...</th>\n",
       "      <th>remainder__bib_LASH</th>\n",
       "      <th>remainder__bib_MEDP</th>\n",
       "      <th>remainder__bib_SCIEN</th>\n",
       "      <th>remainder__bib_SJA</th>\n",
       "      <th>remainder__bib_STAPS</th>\n",
       "      <th>remainder__statut_ex_19</th>\n",
       "      <th>remainder__acces_indirect</th>\n",
       "      <th>remainder__acq_don</th>\n",
       "      <th>remainder__date_pub_std_scaler</th>\n",
       "      <th>remainder__diff_datecreation_datepub_std_scaler</th>\n",
       "    </tr>\n",
       "  </thead>\n",
       "  <tbody>\n",
       "    <tr>\n",
       "      <th>0</th>\n",
       "      <td>0.0</td>\n",
       "      <td>0.0</td>\n",
       "      <td>0.0</td>\n",
       "      <td>0.0</td>\n",
       "      <td>0.0</td>\n",
       "      <td>0.0</td>\n",
       "      <td>0.0</td>\n",
       "      <td>0.0</td>\n",
       "      <td>0.0</td>\n",
       "      <td>0.0</td>\n",
       "      <td>...</td>\n",
       "      <td>0.0</td>\n",
       "      <td>0.0</td>\n",
       "      <td>0.0</td>\n",
       "      <td>1.0</td>\n",
       "      <td>0.0</td>\n",
       "      <td>1.0</td>\n",
       "      <td>0.0</td>\n",
       "      <td>1.0</td>\n",
       "      <td>0.074676</td>\n",
       "      <td>-0.174799</td>\n",
       "    </tr>\n",
       "    <tr>\n",
       "      <th>1</th>\n",
       "      <td>0.0</td>\n",
       "      <td>0.0</td>\n",
       "      <td>0.0</td>\n",
       "      <td>0.0</td>\n",
       "      <td>0.0</td>\n",
       "      <td>0.0</td>\n",
       "      <td>0.0</td>\n",
       "      <td>0.0</td>\n",
       "      <td>0.0</td>\n",
       "      <td>0.0</td>\n",
       "      <td>...</td>\n",
       "      <td>1.0</td>\n",
       "      <td>0.0</td>\n",
       "      <td>0.0</td>\n",
       "      <td>0.0</td>\n",
       "      <td>0.0</td>\n",
       "      <td>1.0</td>\n",
       "      <td>0.0</td>\n",
       "      <td>0.0</td>\n",
       "      <td>0.637569</td>\n",
       "      <td>-0.499671</td>\n",
       "    </tr>\n",
       "  </tbody>\n",
       "</table>\n",
       "<p>2 rows × 162 columns</p>\n",
       "</div>"
      ],
      "text/plain": [
       "   onehotencoder__indice_00  onehotencoder__indice_02  \\\n",
       "0                       0.0                       0.0   \n",
       "1                       0.0                       0.0   \n",
       "\n",
       "   onehotencoder__indice_03  onehotencoder__indice_04  \\\n",
       "0                       0.0                       0.0   \n",
       "1                       0.0                       0.0   \n",
       "\n",
       "   onehotencoder__indice_05  onehotencoder__indice_06  \\\n",
       "0                       0.0                       0.0   \n",
       "1                       0.0                       0.0   \n",
       "\n",
       "   onehotencoder__indice_07  onehotencoder__indice_09  \\\n",
       "0                       0.0                       0.0   \n",
       "1                       0.0                       0.0   \n",
       "\n",
       "   onehotencoder__indice_10  onehotencoder__indice_11  ...  \\\n",
       "0                       0.0                       0.0  ...   \n",
       "1                       0.0                       0.0  ...   \n",
       "\n",
       "   remainder__bib_LASH  remainder__bib_MEDP  remainder__bib_SCIEN  \\\n",
       "0                  0.0                  0.0                   0.0   \n",
       "1                  1.0                  0.0                   0.0   \n",
       "\n",
       "   remainder__bib_SJA  remainder__bib_STAPS  remainder__statut_ex_19  \\\n",
       "0                 1.0                   0.0                      1.0   \n",
       "1                 0.0                   0.0                      1.0   \n",
       "\n",
       "   remainder__acces_indirect  remainder__acq_don  \\\n",
       "0                        0.0                 1.0   \n",
       "1                        0.0                 0.0   \n",
       "\n",
       "   remainder__date_pub_std_scaler  \\\n",
       "0                        0.074676   \n",
       "1                        0.637569   \n",
       "\n",
       "   remainder__diff_datecreation_datepub_std_scaler  \n",
       "0                                        -0.174799  \n",
       "1                                        -0.499671  \n",
       "\n",
       "[2 rows x 162 columns]"
      ]
     },
     "execution_count": 72,
     "metadata": {},
     "output_type": "execute_result"
    }
   ],
   "source": [
    "transformed_X_train.head(2)"
   ]
  },
  {
   "cell_type": "markdown",
   "metadata": {},
   "source": [
    "### Sauvegarde de l'encodeur one hot"
   ]
  },
  {
   "cell_type": "code",
   "execution_count": 73,
   "metadata": {},
   "outputs": [],
   "source": [
    "dump(ohe, open('transformers_models/ohe.pkl', 'wb'))"
   ]
  },
  {
   "cell_type": "markdown",
   "metadata": {},
   "source": [
    "### Application aux données de test"
   ]
  },
  {
   "cell_type": "code",
   "execution_count": null,
   "metadata": {},
   "outputs": [],
   "source": [
    "#oh = load(open('transformers_models/ohe_transformer.pkl', 'rb'))"
   ]
  },
  {
   "cell_type": "code",
   "execution_count": 86,
   "metadata": {},
   "outputs": [],
   "source": [
    "transformed_test = ohe.transform(X_test)\n",
    "transformed_X_test = pd.DataFrame(\n",
    "    transformed_test, \n",
    "    columns=transformer.get_feature_names_out()\n",
    ")"
   ]
  },
  {
   "cell_type": "markdown",
   "metadata": {},
   "source": [
    "# Test d'algorithmes ML"
   ]
  },
  {
   "cell_type": "code",
   "execution_count": 87,
   "metadata": {},
   "outputs": [],
   "source": [
    "##pour l'évaluation\n",
    "from sklearn.metrics import classification_report\n",
    "from sklearn import metrics\n",
    "from sklearn.metrics import confusion_matrix\n",
    "##pour courbe ROC\n",
    "from sklearn.metrics import roc_auc_score\n",
    "from sklearn.metrics import roc_curve"
   ]
  },
  {
   "cell_type": "code",
   "execution_count": 93,
   "metadata": {},
   "outputs": [],
   "source": [
    "def model_score(y_test,predictions):\n",
    "    print(classification_report(y_test,predictions))\n",
    "    print(\"Accuracy:\",metrics.accuracy_score(y_test, predictions))\n",
    "    \n",
    "def model_confusion_matrix(y_test,predictions):\n",
    "    class_names=[0,1] # name  of classes\n",
    "    fig, ax = plt.subplots()\n",
    "    tick_marks = np.arange(len(class_names))\n",
    "    plt.xticks(tick_marks, class_names)\n",
    "    plt.yticks(tick_marks, class_names)\n",
    "    sns.heatmap(pd.DataFrame(confusion_matrix(y_test, predictions)), annot=True, cmap=\"YlGnBu\" ,fmt='g')\n",
    "    ax.xaxis.set_label_position(\"top\")\n",
    "    plt.tight_layout()\n",
    "    plt.title('Confusion matrix', y=1.1)\n",
    "    plt.ylabel('Actual label')\n",
    "    plt.xlabel('Predicted label')\n",
    "    \n",
    "def model_roc_curve(y_test, X_test, model):\n",
    "    logit_roc_auc = roc_auc_score(y_test, model.predict(X_test))\n",
    "    fpr, tpr, thresholds = roc_curve(y_test, model.predict_proba(X_test)[:,1])\n",
    "    plt.figure()\n",
    "    plt.plot(fpr, tpr, label='Logistic Regression (area = %0.2f)' % logit_roc_auc)\n",
    "    plt.plot([0, 1], [0, 1],'r--')\n",
    "    plt.xlim([0.0, 1.0])\n",
    "    plt.ylim([0.0, 1.05])\n",
    "    plt.xlabel('False Positive Rate')\n",
    "    plt.ylabel('True Positive Rate')\n",
    "    plt.title('Receiver operating characteristic')\n",
    "    plt.legend(loc=\"lower right\")\n",
    "    plt.savefig('Log_ROC')\n",
    "    plt.show()\n",
    "    "
   ]
  },
  {
   "cell_type": "markdown",
   "metadata": {},
   "source": [
    "L'exactitude, ou le score, d'un algorithme supervisé de classification comptabilise la proportion de bons résultats dans les classes prédites (ou inversement le taux d’erreur). Mais on peut aussi estimer de manière plus précise la performance en détaillant les bonnes ou mauvaises affectations pour chaque classe : la matrice de confusion résume ces informations en répartissant les nombres cumulés d’enregistrements entre vrais/faux positifs et vrais/faux négatifs (ainsi un algorithme parfait n’aurait que des vrais positifs et des vrais négatifs)\n",
    "\n",
    "A partir de cette matrice on dispose alors de deux indicateurs supplémentaires :\n",
    "- la précision, ou taux de vrais positifs (vrais positifs / vrais positifs + faux positifs), qui évalue l’exactitude des prédictions positives c’est-à dire sa capacité à “tomber juste” quand il classe en 1 les observations\n",
    "- le rappel, ou sensibilité (vrais positifs / vrais positifs + faux négatifs) qui évalue la capacité de l’algorithme à détecter tous les positifs, c’est-à dire la proportion de positifs réels effectivement classés en positif par l’algorithme.\n",
    "\n",
    "Le score F est calculé en faisant la moyenne harmonique des 2 indicateurs."
   ]
  },
  {
   "cell_type": "markdown",
   "metadata": {},
   "source": [
    "## Régression logistique"
   ]
  },
  {
   "cell_type": "markdown",
   "metadata": {},
   "source": [
    "**Algorthme supervisé de classification binaire linéaire**"
   ]
  },
  {
   "cell_type": "code",
   "execution_count": 89,
   "metadata": {},
   "outputs": [],
   "source": [
    "from sklearn.linear_model import LogisticRegression"
   ]
  },
  {
   "cell_type": "code",
   "execution_count": 90,
   "metadata": {},
   "outputs": [
    {
     "name": "stderr",
     "output_type": "stream",
     "text": [
      "C:\\Users\\geoffroy\\Anaconda3\\lib\\site-packages\\sklearn\\utils\\validation.py:1111: DataConversionWarning: A column-vector y was passed when a 1d array was expected. Please change the shape of y to (n_samples, ), for example using ravel().\n",
      "  y = column_or_1d(y, warn=True)\n"
     ]
    }
   ],
   "source": [
    "##instanciation du modèle\n",
    "logmodel = LogisticRegression(solver='sag',max_iter = 4000)\n",
    "##entrainement sur les données du set d'entrainement\n",
    "logmodel.fit(transformed_X_train,y_train)\n",
    "##prédictions\n",
    "log_predictions = logmodel.predict(transformed_X_test)"
   ]
  },
  {
   "cell_type": "code",
   "execution_count": 91,
   "metadata": {},
   "outputs": [
    {
     "name": "stdout",
     "output_type": "stream",
     "text": [
      "              precision    recall  f1-score   support\n",
      "\n",
      "           0       0.77      0.72      0.75      5628\n",
      "           1       0.72      0.77      0.75      5265\n",
      "\n",
      "    accuracy                           0.75     10893\n",
      "   macro avg       0.75      0.75      0.75     10893\n",
      "weighted avg       0.75      0.75      0.75     10893\n",
      "\n",
      "Accuracy: 0.748095106949417\n"
     ]
    }
   ],
   "source": [
    "model_score(y_test,log_predictions)"
   ]
  },
  {
   "cell_type": "code",
   "execution_count": 94,
   "metadata": {},
   "outputs": [
    {
     "data": {
      "image/png": "[encoded data removed]",
      "text/plain": [
       "<Figure size 432x288 with 2 Axes>"
      ]
     },
     "metadata": {
      "needs_background": "light"
     },
     "output_type": "display_data"
    }
   ],
   "source": [
    "model_confusion_matrix(y_test,log_predictions)"
   ]
  },
  {
   "cell_type": "markdown",
   "metadata": {},
   "source": [
    "## Machines à vecteurs de support (SVM)"
   ]
  },
  {
   "cell_type": "markdown",
   "metadata": {},
   "source": [
    "**Algorithme supervisé de classification binaire non linéaire**"
   ]
  },
  {
   "cell_type": "code",
   "execution_count": 97,
   "metadata": {},
   "outputs": [],
   "source": [
    "from sklearn import svm"
   ]
  },
  {
   "cell_type": "code",
   "execution_count": 98,
   "metadata": {},
   "outputs": [
    {
     "name": "stderr",
     "output_type": "stream",
     "text": [
      "C:\\Users\\geoffroy\\Anaconda3\\lib\\site-packages\\sklearn\\utils\\validation.py:1111: DataConversionWarning: A column-vector y was passed when a 1d array was expected. Please change the shape of y to (n_samples, ), for example using ravel().\n",
      "  y = column_or_1d(y, warn=True)\n"
     ]
    }
   ],
   "source": [
    "svmmodel = svm.SVC(kernel='linear')\n",
    "svmmodel.fit(transformed_X_train,y_train)\n",
    "svm_predictions = svmmodel.predict(transformed_X_test)"
   ]
  },
  {
   "cell_type": "code",
   "execution_count": 99,
   "metadata": {},
   "outputs": [
    {
     "name": "stdout",
     "output_type": "stream",
     "text": [
      "              precision    recall  f1-score   support\n",
      "\n",
      "           0       0.78      0.69      0.73      5628\n",
      "           1       0.71      0.80      0.75      5265\n",
      "\n",
      "    accuracy                           0.74     10893\n",
      "   macro avg       0.75      0.74      0.74     10893\n",
      "weighted avg       0.75      0.74      0.74     10893\n",
      "\n",
      "Accuracy: 0.7419443679427155\n"
     ]
    }
   ],
   "source": [
    "model_score(y_test,svm_predictions)"
   ]
  },
  {
   "cell_type": "code",
   "execution_count": 100,
   "metadata": {},
   "outputs": [
    {
     "data": {
      "image/png": "[encoded data removed]",
      "text/plain": [
       "<Figure size 432x288 with 2 Axes>"
      ]
     },
     "metadata": {
      "needs_background": "light"
     },
     "output_type": "display_data"
    }
   ],
   "source": [
    "model_confusion_matrix(y_test,svm_predictions)"
   ]
  },
  {
   "cell_type": "markdown",
   "metadata": {},
   "source": [
    "## Arbres de décision"
   ]
  },
  {
   "cell_type": "markdown",
   "metadata": {},
   "source": [
    "**Algorithme supervisé de classification ou régression**"
   ]
  },
  {
   "cell_type": "markdown",
   "metadata": {},
   "source": [
    "*Modèle purement algorithmique ne nécessitant en théorie quasiment pas de transformation des données - peut traiter des données texte, des valeurs nulles etc...- mais en pratique avec scikit-learn on est contraints à ne travailler que des données encodées et normalisées*"
   ]
  },
  {
   "cell_type": "code",
   "execution_count": 103,
   "metadata": {},
   "outputs": [],
   "source": [
    "from sklearn.tree import DecisionTreeClassifier"
   ]
  },
  {
   "cell_type": "code",
   "execution_count": 109,
   "metadata": {},
   "outputs": [],
   "source": [
    "treemodel = DecisionTreeClassifier()\n",
    "treemodel.fit(transformed_X_train,y_train)\n",
    "tree_predictions = treemodel.predict(transformed_X_test)"
   ]
  },
  {
   "cell_type": "code",
   "execution_count": 110,
   "metadata": {},
   "outputs": [
    {
     "name": "stdout",
     "output_type": "stream",
     "text": [
      "              precision    recall  f1-score   support\n",
      "\n",
      "           0       0.74      0.74      0.74      5628\n",
      "           1       0.72      0.73      0.73      5265\n",
      "\n",
      "    accuracy                           0.73     10893\n",
      "   macro avg       0.73      0.73      0.73     10893\n",
      "weighted avg       0.73      0.73      0.73     10893\n",
      "\n",
      "Accuracy: 0.7335903791425686\n"
     ]
    }
   ],
   "source": [
    "model_score(y_test,tree_predictions)"
   ]
  },
  {
   "cell_type": "code",
   "execution_count": 111,
   "metadata": {},
   "outputs": [
    {
     "data": {
      "image/png": "[encoded data removed]",
      "text/plain": [
       "<Figure size 432x288 with 2 Axes>"
      ]
     },
     "metadata": {
      "needs_background": "light"
     },
     "output_type": "display_data"
    }
   ],
   "source": [
    "model_confusion_matrix(y_test,tree_predictions)"
   ]
  },
  {
   "cell_type": "markdown",
   "metadata": {},
   "source": [
    "## Forêts aléatoires"
   ]
  },
  {
   "cell_type": "markdown",
   "metadata": {},
   "source": [
    "**Combinaison d'arbes de décision, donc possède les mêmes caractéristiques**"
   ]
  },
  {
   "cell_type": "code",
   "execution_count": 112,
   "metadata": {},
   "outputs": [],
   "source": [
    "from sklearn.ensemble import RandomForestClassifier"
   ]
  },
  {
   "cell_type": "code",
   "execution_count": 113,
   "metadata": {},
   "outputs": [
    {
     "name": "stderr",
     "output_type": "stream",
     "text": [
      "C:\\Users\\geoffroy\\AppData\\Local\\Temp/ipykernel_17036/1618325797.py:2: DataConversionWarning: A column-vector y was passed when a 1d array was expected. Please change the shape of y to (n_samples,), for example using ravel().\n",
      "  forestmodel.fit(transformed_X_train,y_train)\n"
     ]
    }
   ],
   "source": [
    "forestmodel = RandomForestClassifier(n_estimators=100)\n",
    "forestmodel.fit(transformed_X_train,y_train)\n",
    "forest_predictions = forestmodel.predict(transformed_X_test)"
   ]
  },
  {
   "cell_type": "code",
   "execution_count": 114,
   "metadata": {},
   "outputs": [
    {
     "name": "stdout",
     "output_type": "stream",
     "text": [
      "              precision    recall  f1-score   support\n",
      "\n",
      "           0       0.76      0.72      0.74      5628\n",
      "           1       0.72      0.76      0.74      5265\n",
      "\n",
      "    accuracy                           0.74     10893\n",
      "   macro avg       0.74      0.74      0.74     10893\n",
      "weighted avg       0.74      0.74      0.74     10893\n",
      "\n",
      "Accuracy: 0.7375378683558248\n"
     ]
    }
   ],
   "source": [
    "model_score(y_test,forest_predictions)"
   ]
  },
  {
   "cell_type": "code",
   "execution_count": 115,
   "metadata": {},
   "outputs": [
    {
     "data": {
      "image/png": "[encoded data removed]",
      "text/plain": [
       "<Figure size 432x288 with 2 Axes>"
      ]
     },
     "metadata": {
      "needs_background": "light"
     },
     "output_type": "display_data"
    }
   ],
   "source": [
    "model_confusion_matrix(y_test,forest_predictions)"
   ]
  },
  {
   "cell_type": "markdown",
   "metadata": {},
   "source": [
    "### Importance des variables"
   ]
  },
  {
   "cell_type": "markdown",
   "metadata": {},
   "source": [
    "L'implémentation de l'algorithme des forêts aléatoires dans la bibliothèque scikit-learn comprend une méthode intéressante qui permet de déterminer **sur le jeu de données observé (de manière non généralisable donc)** la contribution relative de chaque variable à la variance de la variable cible, autrement dit de classer par ordre de capacité prédictive l'ensemble des variables."
   ]
  },
  {
   "cell_type": "code",
   "execution_count": 116,
   "metadata": {},
   "outputs": [
    {
     "data": {
      "text/plain": [
       "remainder__date_pub_std_scaler                     3.323880e-01\n",
       "remainder__diff_datecreation_datepub_std_scaler    2.575230e-01\n",
       "onehotencoder__indice_numinv                       6.235491e-02\n",
       "remainder__acces_indirect                          3.960462e-02\n",
       "remainder__acq_don                                 2.668705e-02\n",
       "                                                       ...     \n",
       "onehotencoder__indice_ND                           1.501932e-05\n",
       "onehotencoder__indice_05                           1.045334e-05\n",
       "onehotencoder__indice_bf                           1.027952e-05\n",
       "onehotencoder__indice_AS                           5.348636e-06\n",
       "onehotencoder__indice_M2                           6.668254e-07\n",
       "Length: 162, dtype: float64"
      ]
     },
     "execution_count": 116,
     "metadata": {},
     "output_type": "execute_result"
    }
   ],
   "source": [
    "feature_importance = pd.Series(forestmodel.feature_importances_,index=transformed_X_train.columns).sort_values(ascending=False)\n",
    "feature_importance"
   ]
  },
  {
   "cell_type": "code",
   "execution_count": 117,
   "metadata": {},
   "outputs": [
    {
     "data": {
      "text/html": [
       "<div>\n",
       "<style scoped>\n",
       "    .dataframe tbody tr th:only-of-type {\n",
       "        vertical-align: middle;\n",
       "    }\n",
       "\n",
       "    .dataframe tbody tr th {\n",
       "        vertical-align: top;\n",
       "    }\n",
       "\n",
       "    .dataframe thead th {\n",
       "        text-align: right;\n",
       "    }\n",
       "</style>\n",
       "<table border=\"1\" class=\"dataframe\">\n",
       "  <thead>\n",
       "    <tr style=\"text-align: right;\">\n",
       "      <th></th>\n",
       "      <th>onehotencoder__indice_00</th>\n",
       "      <th>onehotencoder__indice_02</th>\n",
       "      <th>onehotencoder__indice_03</th>\n",
       "      <th>onehotencoder__indice_04</th>\n",
       "      <th>onehotencoder__indice_05</th>\n",
       "      <th>onehotencoder__indice_06</th>\n",
       "      <th>onehotencoder__indice_07</th>\n",
       "      <th>onehotencoder__indice_09</th>\n",
       "      <th>onehotencoder__indice_10</th>\n",
       "      <th>onehotencoder__indice_11</th>\n",
       "      <th>...</th>\n",
       "      <th>remainder__bib_LASH</th>\n",
       "      <th>remainder__bib_MEDP</th>\n",
       "      <th>remainder__bib_SCIEN</th>\n",
       "      <th>remainder__bib_SJA</th>\n",
       "      <th>remainder__bib_STAPS</th>\n",
       "      <th>remainder__statut_ex_19</th>\n",
       "      <th>remainder__acces_indirect</th>\n",
       "      <th>remainder__acq_don</th>\n",
       "      <th>remainder__date_pub_std_scaler</th>\n",
       "      <th>remainder__diff_datecreation_datepub_std_scaler</th>\n",
       "    </tr>\n",
       "  </thead>\n",
       "  <tbody>\n",
       "    <tr>\n",
       "      <th>0</th>\n",
       "      <td>0.0</td>\n",
       "      <td>0.0</td>\n",
       "      <td>0.0</td>\n",
       "      <td>0.0</td>\n",
       "      <td>0.0</td>\n",
       "      <td>0.0</td>\n",
       "      <td>0.0</td>\n",
       "      <td>0.0</td>\n",
       "      <td>0.0</td>\n",
       "      <td>0.0</td>\n",
       "      <td>...</td>\n",
       "      <td>0.0</td>\n",
       "      <td>0.0</td>\n",
       "      <td>0.0</td>\n",
       "      <td>1.0</td>\n",
       "      <td>0.0</td>\n",
       "      <td>1.0</td>\n",
       "      <td>0.0</td>\n",
       "      <td>1.0</td>\n",
       "      <td>0.074676</td>\n",
       "      <td>-0.174799</td>\n",
       "    </tr>\n",
       "    <tr>\n",
       "      <th>1</th>\n",
       "      <td>0.0</td>\n",
       "      <td>0.0</td>\n",
       "      <td>0.0</td>\n",
       "      <td>0.0</td>\n",
       "      <td>0.0</td>\n",
       "      <td>0.0</td>\n",
       "      <td>0.0</td>\n",
       "      <td>0.0</td>\n",
       "      <td>0.0</td>\n",
       "      <td>0.0</td>\n",
       "      <td>...</td>\n",
       "      <td>1.0</td>\n",
       "      <td>0.0</td>\n",
       "      <td>0.0</td>\n",
       "      <td>0.0</td>\n",
       "      <td>0.0</td>\n",
       "      <td>1.0</td>\n",
       "      <td>0.0</td>\n",
       "      <td>0.0</td>\n",
       "      <td>0.637569</td>\n",
       "      <td>-0.499671</td>\n",
       "    </tr>\n",
       "    <tr>\n",
       "      <th>2</th>\n",
       "      <td>0.0</td>\n",
       "      <td>0.0</td>\n",
       "      <td>0.0</td>\n",
       "      <td>0.0</td>\n",
       "      <td>0.0</td>\n",
       "      <td>0.0</td>\n",
       "      <td>0.0</td>\n",
       "      <td>0.0</td>\n",
       "      <td>0.0</td>\n",
       "      <td>0.0</td>\n",
       "      <td>...</td>\n",
       "      <td>0.0</td>\n",
       "      <td>0.0</td>\n",
       "      <td>0.0</td>\n",
       "      <td>0.0</td>\n",
       "      <td>0.0</td>\n",
       "      <td>1.0</td>\n",
       "      <td>0.0</td>\n",
       "      <td>0.0</td>\n",
       "      <td>0.590662</td>\n",
       "      <td>-0.638901</td>\n",
       "    </tr>\n",
       "    <tr>\n",
       "      <th>3</th>\n",
       "      <td>0.0</td>\n",
       "      <td>0.0</td>\n",
       "      <td>0.0</td>\n",
       "      <td>0.0</td>\n",
       "      <td>0.0</td>\n",
       "      <td>0.0</td>\n",
       "      <td>0.0</td>\n",
       "      <td>0.0</td>\n",
       "      <td>0.0</td>\n",
       "      <td>0.0</td>\n",
       "      <td>...</td>\n",
       "      <td>0.0</td>\n",
       "      <td>0.0</td>\n",
       "      <td>0.0</td>\n",
       "      <td>1.0</td>\n",
       "      <td>0.0</td>\n",
       "      <td>1.0</td>\n",
       "      <td>0.0</td>\n",
       "      <td>0.0</td>\n",
       "      <td>-1.614006</td>\n",
       "      <td>1.681609</td>\n",
       "    </tr>\n",
       "    <tr>\n",
       "      <th>4</th>\n",
       "      <td>0.0</td>\n",
       "      <td>0.0</td>\n",
       "      <td>0.0</td>\n",
       "      <td>0.0</td>\n",
       "      <td>0.0</td>\n",
       "      <td>0.0</td>\n",
       "      <td>0.0</td>\n",
       "      <td>0.0</td>\n",
       "      <td>0.0</td>\n",
       "      <td>0.0</td>\n",
       "      <td>...</td>\n",
       "      <td>0.0</td>\n",
       "      <td>0.0</td>\n",
       "      <td>0.0</td>\n",
       "      <td>0.0</td>\n",
       "      <td>0.0</td>\n",
       "      <td>1.0</td>\n",
       "      <td>0.0</td>\n",
       "      <td>0.0</td>\n",
       "      <td>0.590662</td>\n",
       "      <td>-0.638901</td>\n",
       "    </tr>\n",
       "  </tbody>\n",
       "</table>\n",
       "<p>5 rows × 162 columns</p>\n",
       "</div>"
      ],
      "text/plain": [
       "   onehotencoder__indice_00  onehotencoder__indice_02  \\\n",
       "0                       0.0                       0.0   \n",
       "1                       0.0                       0.0   \n",
       "2                       0.0                       0.0   \n",
       "3                       0.0                       0.0   \n",
       "4                       0.0                       0.0   \n",
       "\n",
       "   onehotencoder__indice_03  onehotencoder__indice_04  \\\n",
       "0                       0.0                       0.0   \n",
       "1                       0.0                       0.0   \n",
       "2                       0.0                       0.0   \n",
       "3                       0.0                       0.0   \n",
       "4                       0.0                       0.0   \n",
       "\n",
       "   onehotencoder__indice_05  onehotencoder__indice_06  \\\n",
       "0                       0.0                       0.0   \n",
       "1                       0.0                       0.0   \n",
       "2                       0.0                       0.0   \n",
       "3                       0.0                       0.0   \n",
       "4                       0.0                       0.0   \n",
       "\n",
       "   onehotencoder__indice_07  onehotencoder__indice_09  \\\n",
       "0                       0.0                       0.0   \n",
       "1                       0.0                       0.0   \n",
       "2                       0.0                       0.0   \n",
       "3                       0.0                       0.0   \n",
       "4                       0.0                       0.0   \n",
       "\n",
       "   onehotencoder__indice_10  onehotencoder__indice_11  ...  \\\n",
       "0                       0.0                       0.0  ...   \n",
       "1                       0.0                       0.0  ...   \n",
       "2                       0.0                       0.0  ...   \n",
       "3                       0.0                       0.0  ...   \n",
       "4                       0.0                       0.0  ...   \n",
       "\n",
       "   remainder__bib_LASH  remainder__bib_MEDP  remainder__bib_SCIEN  \\\n",
       "0                  0.0                  0.0                   0.0   \n",
       "1                  1.0                  0.0                   0.0   \n",
       "2                  0.0                  0.0                   0.0   \n",
       "3                  0.0                  0.0                   0.0   \n",
       "4                  0.0                  0.0                   0.0   \n",
       "\n",
       "   remainder__bib_SJA  remainder__bib_STAPS  remainder__statut_ex_19  \\\n",
       "0                 1.0                   0.0                      1.0   \n",
       "1                 0.0                   0.0                      1.0   \n",
       "2                 0.0                   0.0                      1.0   \n",
       "3                 1.0                   0.0                      1.0   \n",
       "4                 0.0                   0.0                      1.0   \n",
       "\n",
       "   remainder__acces_indirect  remainder__acq_don  \\\n",
       "0                        0.0                 1.0   \n",
       "1                        0.0                 0.0   \n",
       "2                        0.0                 0.0   \n",
       "3                        0.0                 0.0   \n",
       "4                        0.0                 0.0   \n",
       "\n",
       "   remainder__date_pub_std_scaler  \\\n",
       "0                        0.074676   \n",
       "1                        0.637569   \n",
       "2                        0.590662   \n",
       "3                       -1.614006   \n",
       "4                        0.590662   \n",
       "\n",
       "   remainder__diff_datecreation_datepub_std_scaler  \n",
       "0                                        -0.174799  \n",
       "1                                        -0.499671  \n",
       "2                                        -0.638901  \n",
       "3                                         1.681609  \n",
       "4                                        -0.638901  \n",
       "\n",
       "[5 rows x 162 columns]"
      ]
     },
     "execution_count": 117,
     "metadata": {},
     "output_type": "execute_result"
    }
   ],
   "source": [
    "transformed_X_train.head()"
   ]
  },
  {
   "cell_type": "code",
   "execution_count": null,
   "metadata": {},
   "outputs": [],
   "source": []
  }
 ],
 "metadata": {
  "kernelspec": {
   "display_name": "Python 3 (ipykernel)",
   "language": "python",
   "name": "python3"
  },
  "language_info": {
   "codemirror_mode": {
    "name": "ipython",
    "version": 3
   },
   "file_extension": ".py",
   "mimetype": "text/x-python",
   "name": "python",
   "nbconvert_exporter": "python",
   "pygments_lexer": "ipython3",
   "version": "3.9.7"
  },
  "varInspector": {
   "cols": {
    "lenName": 16,
    "lenType": 16,
    "lenVar": 40
   },
   "kernels_config": {
    "python": {
     "delete_cmd_postfix": "",
     "delete_cmd_prefix": "del ",
     "library": "var_list.py",
     "varRefreshCmd": "print(var_dic_list())"
    },
    "r": {
     "delete_cmd_postfix": ") ",
     "delete_cmd_prefix": "rm(",
     "library": "var_list.r",
     "varRefreshCmd": "cat(var_dic_list()) "
    }
   },
   "types_to_exclude": [
    "module",
    "function",
    "builtin_function_or_method",
    "instance",
    "_Feature"
   ],
   "window_display": false
  },
  "vscode": {
   "interpreter": {
    "hash": "67375d8c007ad375f89a5c2509ae2b4f250cd8839b949e149ecd2e2eb3f59f23"
   }
  }
 },
 "nbformat": 4,
 "nbformat_minor": 2
}
